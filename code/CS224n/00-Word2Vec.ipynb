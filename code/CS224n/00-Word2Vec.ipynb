{
 "cells": [
  {
   "cell_type": "markdown",
   "metadata": {},
   "source": [
    "# CS224n Lecture 01\n",
    "Word2Vec implementation in PyTorch\n",
    "\n",
    "Date: 2021/01/11"
   ]
  },
  {
   "cell_type": "code",
   "execution_count": 8,
   "metadata": {},
   "outputs": [],
   "source": [
    "import torch\n",
    "from torch.autograd import Variable\n",
    "import numpy as np\n",
    "import torch.nn.functional as F"
   ]
  },
  {
   "cell_type": "markdown",
   "metadata": {},
   "source": [
    "### Preprocessing"
   ]
  },
  {
   "cell_type": "code",
   "execution_count": 9,
   "metadata": {},
   "outputs": [],
   "source": [
    "corpus = [\n",
    "    'he is a king',\n",
    "    'she is a queen',\n",
    "    'he is a man',\n",
    "    'she is a woman',\n",
    "    'warsaw is poland capital',\n",
    "    'berlin is germany capital',\n",
    "    'paris is france capital',   \n",
    "]"
   ]
  },
  {
   "cell_type": "code",
   "execution_count": 10,
   "metadata": {},
   "outputs": [],
   "source": [
    "def tokenize(corpus):\n",
    "    tokens = [['BOS'] + sent.split() + ['EOS'] for sent in corpus]\n",
    "    return tokens\n",
    "\n",
    "tokenized_corpus = tokenize(corpus)\n",
    "assert tokenized_corpus[0] == ['BOS', 'he', 'is', 'a', 'king', 'EOS']"
   ]
  },
  {
   "cell_type": "code",
   "execution_count": 12,
   "metadata": {},
   "outputs": [],
   "source": [
    "vocab = []\n",
    "for sent in tokenized_corpus:\n",
    "    for token in sent:\n",
    "        if token not in vocab:\n",
    "            vocab.append(token)\n",
    "\n",
    "word2idx = {w: idx for (idx, w) in enumerate(vocab)}\n",
    "idx2word = {idx: w for (idx, w) in enumerate(vocab)}\n",
    "\n",
    "vocab_size = len(vocab)"
   ]
  },
  {
   "cell_type": "code",
   "execution_count": 13,
   "metadata": {},
   "outputs": [
    {
     "name": "stdout",
     "output_type": "stream",
     "text": [
      "[0, 1, 2, 3, 4, 5]\n",
      "[0, 6, 2, 3, 7, 5]\n",
      "[0, 1, 2, 3, 8, 5]\n",
      "[0, 6, 2, 3, 9, 5]\n",
      "[0, 10, 2, 11, 12, 5]\n",
      "[0, 13, 2, 14, 12, 5]\n",
      "[0, 15, 2, 16, 12, 5]\n"
     ]
    }
   ],
   "source": [
    "window_size = 2\n",
    "idx_pairs = []\n",
    "\n",
    "for sent in tokenized_corpus:\n",
    "    indices = [word2idx[word] for word in sent]\n",
    "    print(indices)\n",
    "    for c_pos in range(2, len(indices)-2):\n",
    "        for watch in range(1, window_size+1):\n",
    "            idx_pairs.append((indices[c_pos], indices[c_pos-watch]))\n",
    "            idx_pairs.append((indices[c_pos], indices[c_pos+watch]))\n",
    "\n",
    "idx_pairs = np.array(idx_pairs)"
   ]
  },
  {
   "cell_type": "markdown",
   "metadata": {},
   "source": [
    "### Model"
   ]
  },
  {
   "cell_type": "code",
   "execution_count": 14,
   "metadata": {},
   "outputs": [],
   "source": [
    "def get_input_layer(word_idx):\n",
    "    x = torch.zeros(vocab_size).float()\n",
    "    x[word_idx] = 1.0\n",
    "    return x"
   ]
  },
  {
   "cell_type": "code",
   "execution_count": 15,
   "metadata": {},
   "outputs": [
    {
     "name": "stdout",
     "output_type": "stream",
     "text": [
      "Loss at epoch 0: 4.865460050957544\n",
      "Loss at epoch 100: 2.899385786482266\n",
      "Loss at epoch 200: 2.5387552976608276\n",
      "Loss at epoch 300: 2.380845404097012\n",
      "Loss at epoch 400: 2.2875186183622906\n",
      "Loss at epoch 500: 2.227272304041045\n",
      "Loss at epoch 600: 2.189772814512253\n",
      "Loss at epoch 700: 2.164765096136502\n",
      "Loss at epoch 800: 2.1459397737468993\n",
      "Loss at epoch 900: 2.13125516474247\n",
      "Loss at epoch 1000: 2.119752045188631\n"
     ]
    }
   ],
   "source": [
    "embed_dims = 8\n",
    "W1 = Variable(torch.randn(embed_dims, vocab_size).float(), requires_grad=True)\n",
    "W2 = Variable(torch.randn(vocab_size, embed_dims).float(), requires_grad=True)\n",
    "num_epochs = 1000\n",
    "learning_rate = 0.001\n",
    "\n",
    "for epoch in range(num_epochs+1):\n",
    "    loss_val = 0\n",
    "    for data, target in idx_pairs:\n",
    "        x = Variable(get_input_layer(data)).float()\n",
    "        y_true = Variable(torch.from_numpy(np.array([target])).long())\n",
    "        \n",
    "        z1 = torch.matmul(W1, x)\n",
    "        z2 = torch.matmul(W2, z1)\n",
    "        \n",
    "        log_softmax = F.log_softmax(z2, dim=0)\n",
    "        \n",
    "        loss = F.nll_loss(log_softmax.view(1, -1), y_true)\n",
    "        loss_val += loss.item()\n",
    "        loss.backward()\n",
    "        W1.data -= learning_rate * W1.grad.data\n",
    "        W2.data -= learning_rate * W2.grad.data\n",
    "        \n",
    "        W1.grad.data.zero_()\n",
    "        W2.grad.data.zero_()\n",
    "    \n",
    "    if epoch % 100 == 0:\n",
    "        print(f'Loss at epoch {epoch}: {loss_val/len(idx_pairs)}')"
   ]
  },
  {
   "cell_type": "code",
   "execution_count": 21,
   "metadata": {},
   "outputs": [],
   "source": [
    "def similarity(v,u):\n",
    "    return torch.dot(v,u)/(torch.norm(v)*torch.norm(u))"
   ]
  },
  {
   "cell_type": "code",
   "execution_count": 22,
   "metadata": {},
   "outputs": [
    {
     "data": {
      "text/plain": [
       "tensor(0.0512, grad_fn=<DivBackward0>)"
      ]
     },
     "execution_count": 22,
     "metadata": {},
     "output_type": "execute_result"
    }
   ],
   "source": [
    "similarity(W2[word2idx[\"she\"]], W2[word2idx[\"king\"]])"
   ]
  },
  {
   "cell_type": "code",
   "execution_count": 23,
   "metadata": {},
   "outputs": [
    {
     "data": {
      "text/plain": [
       "tensor(0.5964, grad_fn=<DivBackward0>)"
      ]
     },
     "execution_count": 23,
     "metadata": {},
     "output_type": "execute_result"
    }
   ],
   "source": [
    "similarity(W2[word2idx[\"she\"]], W2[word2idx[\"queen\"]])"
   ]
  },
  {
   "cell_type": "code",
   "execution_count": 24,
   "metadata": {},
   "outputs": [
    {
     "data": {
      "text/plain": [
       "tensor(0.2505, grad_fn=<DivBackward0>)"
      ]
     },
     "execution_count": 24,
     "metadata": {},
     "output_type": "execute_result"
    }
   ],
   "source": [
    "similarity(W2[word2idx[\"he\"]], W2[word2idx[\"queen\"]])"
   ]
  },
  {
   "cell_type": "code",
   "execution_count": 26,
   "metadata": {},
   "outputs": [
    {
     "data": {
      "text/plain": [
       "tensor(0.5350, grad_fn=<DivBackward0>)"
      ]
     },
     "execution_count": 26,
     "metadata": {},
     "output_type": "execute_result"
    }
   ],
   "source": [
    "similarity(W2[word2idx[\"he\"]], W2[word2idx[\"king\"]])"
   ]
  },
  {
   "cell_type": "code",
   "execution_count": null,
   "metadata": {},
   "outputs": [],
   "source": []
  }
 ],
 "metadata": {
  "kernelspec": {
   "display_name": "'Python Interactive'",
   "language": "python",
   "name": "50f3989b-6c75-44f8-b968-476890abb309"
  },
  "language_info": {
   "codemirror_mode": {
    "name": "ipython",
    "version": 3
   },
   "file_extension": ".py",
   "mimetype": "text/x-python",
   "name": "python",
   "nbconvert_exporter": "python",
   "pygments_lexer": "ipython3",
   "version": "3.6.2"
  }
 },
 "nbformat": 4,
 "nbformat_minor": 4
}
